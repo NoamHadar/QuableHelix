{
 "cells": [
  {
   "cell_type": "code",
   "execution_count": 2,
   "id": "887a3fa1-501e-48f6-a508-444890212b1e",
   "metadata": {},
   "outputs": [
    {
     "data": {
      "text/plain": [
       "10999"
      ]
     },
     "execution_count": 2,
     "metadata": {},
     "output_type": "execute_result"
    }
   ],
   "source": [
    "import random\n",
    "\n",
    "read_number = 1000\n",
    "read_length = 10\n",
    "fasta = 'sample.fasta'\n",
    "\n",
    "reference = ''.join(open(fasta, 'r').read().split('\\n')[1:])\n",
    "reference_len = len(reference)\n",
    "\n",
    "reads = []\n",
    "while len(reads) != read_number:\n",
    "    n = random.choice([i for i in range(len(reference) - read_length)])\n",
    "    read = [i for i in reference[n : n + read_length]]\n",
    "    if random.randint(0,1) == 1:\n",
    "        read[random.randint(0,len(read) - 1)] = 'A'\n",
    "        read[random.randint(0,len(read) - 1)] = 'C'\n",
    "        read[random.randint(0,len(read) - 1)] = 'G'\n",
    "        read[random.randint(0,len(read) - 1)] = 'T'\n",
    "    read = ''.join(read)\n",
    "    reads.append(read)\n",
    "\n",
    "fastq = '\\n'.join(['\\n'.join(['@' + str(n), i, '+', 'F' * read_length]) for n, i in enumerate(reads)])\n",
    "open(str(read_length) + '.reads.fastq', 'w').write(fastq)\n",
    "open(str(read_length) + '.just_sequence.txt', 'w').write('\\n'.join(reads))"
   ]
  }
 ],
 "metadata": {
  "kernelspec": {
   "display_name": "Python 3 (ipykernel)",
   "language": "python",
   "name": "python3"
  },
  "language_info": {
   "codemirror_mode": {
    "name": "ipython",
    "version": 3
   },
   "file_extension": ".py",
   "mimetype": "text/x-python",
   "name": "python",
   "nbconvert_exporter": "python",
   "pygments_lexer": "ipython3",
   "version": "3.12.2"
  }
 },
 "nbformat": 4,
 "nbformat_minor": 5
}
